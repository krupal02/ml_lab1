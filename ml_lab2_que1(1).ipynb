{
  "nbformat": 4,
  "nbformat_minor": 0,
  "metadata": {
    "colab": {
      "provenance": []
    },
    "kernelspec": {
      "name": "python3",
      "display_name": "Python 3"
    },
    "language_info": {
      "name": "python"
    }
  },
  "cells": [
    {
      "cell_type": "markdown",
      "source": [
        "#Advertising"
      ],
      "metadata": {
        "id": "Qry58aWwhuXz"
      }
    },
    {
      "cell_type": "code",
      "source": [
        "from google.colab import files\n",
        "uploaded = files.upload()"
      ],
      "metadata": {
        "colab": {
          "base_uri": "https://localhost:8080/",
          "height": 73
        },
        "id": "d_FTZ7ARfqQp",
        "outputId": "9fb66dad-e1fd-4a3f-8ffa-964b6c9a9096"
      },
      "execution_count": 2,
      "outputs": [
        {
          "output_type": "display_data",
          "data": {
            "text/plain": [
              "<IPython.core.display.HTML object>"
            ],
            "text/html": [
              "\n",
              "     <input type=\"file\" id=\"files-0a48707b-b501-4508-8fc1-87b7a474a8e6\" name=\"files[]\" multiple disabled\n",
              "        style=\"border:none\" />\n",
              "     <output id=\"result-0a48707b-b501-4508-8fc1-87b7a474a8e6\">\n",
              "      Upload widget is only available when the cell has been executed in the\n",
              "      current browser session. Please rerun this cell to enable.\n",
              "      </output>\n",
              "      <script>// Copyright 2017 Google LLC\n",
              "//\n",
              "// Licensed under the Apache License, Version 2.0 (the \"License\");\n",
              "// you may not use this file except in compliance with the License.\n",
              "// You may obtain a copy of the License at\n",
              "//\n",
              "//      http://www.apache.org/licenses/LICENSE-2.0\n",
              "//\n",
              "// Unless required by applicable law or agreed to in writing, software\n",
              "// distributed under the License is distributed on an \"AS IS\" BASIS,\n",
              "// WITHOUT WARRANTIES OR CONDITIONS OF ANY KIND, either express or implied.\n",
              "// See the License for the specific language governing permissions and\n",
              "// limitations under the License.\n",
              "\n",
              "/**\n",
              " * @fileoverview Helpers for google.colab Python module.\n",
              " */\n",
              "(function(scope) {\n",
              "function span(text, styleAttributes = {}) {\n",
              "  const element = document.createElement('span');\n",
              "  element.textContent = text;\n",
              "  for (const key of Object.keys(styleAttributes)) {\n",
              "    element.style[key] = styleAttributes[key];\n",
              "  }\n",
              "  return element;\n",
              "}\n",
              "\n",
              "// Max number of bytes which will be uploaded at a time.\n",
              "const MAX_PAYLOAD_SIZE = 100 * 1024;\n",
              "\n",
              "function _uploadFiles(inputId, outputId) {\n",
              "  const steps = uploadFilesStep(inputId, outputId);\n",
              "  const outputElement = document.getElementById(outputId);\n",
              "  // Cache steps on the outputElement to make it available for the next call\n",
              "  // to uploadFilesContinue from Python.\n",
              "  outputElement.steps = steps;\n",
              "\n",
              "  return _uploadFilesContinue(outputId);\n",
              "}\n",
              "\n",
              "// This is roughly an async generator (not supported in the browser yet),\n",
              "// where there are multiple asynchronous steps and the Python side is going\n",
              "// to poll for completion of each step.\n",
              "// This uses a Promise to block the python side on completion of each step,\n",
              "// then passes the result of the previous step as the input to the next step.\n",
              "function _uploadFilesContinue(outputId) {\n",
              "  const outputElement = document.getElementById(outputId);\n",
              "  const steps = outputElement.steps;\n",
              "\n",
              "  const next = steps.next(outputElement.lastPromiseValue);\n",
              "  return Promise.resolve(next.value.promise).then((value) => {\n",
              "    // Cache the last promise value to make it available to the next\n",
              "    // step of the generator.\n",
              "    outputElement.lastPromiseValue = value;\n",
              "    return next.value.response;\n",
              "  });\n",
              "}\n",
              "\n",
              "/**\n",
              " * Generator function which is called between each async step of the upload\n",
              " * process.\n",
              " * @param {string} inputId Element ID of the input file picker element.\n",
              " * @param {string} outputId Element ID of the output display.\n",
              " * @return {!Iterable<!Object>} Iterable of next steps.\n",
              " */\n",
              "function* uploadFilesStep(inputId, outputId) {\n",
              "  const inputElement = document.getElementById(inputId);\n",
              "  inputElement.disabled = false;\n",
              "\n",
              "  const outputElement = document.getElementById(outputId);\n",
              "  outputElement.innerHTML = '';\n",
              "\n",
              "  const pickedPromise = new Promise((resolve) => {\n",
              "    inputElement.addEventListener('change', (e) => {\n",
              "      resolve(e.target.files);\n",
              "    });\n",
              "  });\n",
              "\n",
              "  const cancel = document.createElement('button');\n",
              "  inputElement.parentElement.appendChild(cancel);\n",
              "  cancel.textContent = 'Cancel upload';\n",
              "  const cancelPromise = new Promise((resolve) => {\n",
              "    cancel.onclick = () => {\n",
              "      resolve(null);\n",
              "    };\n",
              "  });\n",
              "\n",
              "  // Wait for the user to pick the files.\n",
              "  const files = yield {\n",
              "    promise: Promise.race([pickedPromise, cancelPromise]),\n",
              "    response: {\n",
              "      action: 'starting',\n",
              "    }\n",
              "  };\n",
              "\n",
              "  cancel.remove();\n",
              "\n",
              "  // Disable the input element since further picks are not allowed.\n",
              "  inputElement.disabled = true;\n",
              "\n",
              "  if (!files) {\n",
              "    return {\n",
              "      response: {\n",
              "        action: 'complete',\n",
              "      }\n",
              "    };\n",
              "  }\n",
              "\n",
              "  for (const file of files) {\n",
              "    const li = document.createElement('li');\n",
              "    li.append(span(file.name, {fontWeight: 'bold'}));\n",
              "    li.append(span(\n",
              "        `(${file.type || 'n/a'}) - ${file.size} bytes, ` +\n",
              "        `last modified: ${\n",
              "            file.lastModifiedDate ? file.lastModifiedDate.toLocaleDateString() :\n",
              "                                    'n/a'} - `));\n",
              "    const percent = span('0% done');\n",
              "    li.appendChild(percent);\n",
              "\n",
              "    outputElement.appendChild(li);\n",
              "\n",
              "    const fileDataPromise = new Promise((resolve) => {\n",
              "      const reader = new FileReader();\n",
              "      reader.onload = (e) => {\n",
              "        resolve(e.target.result);\n",
              "      };\n",
              "      reader.readAsArrayBuffer(file);\n",
              "    });\n",
              "    // Wait for the data to be ready.\n",
              "    let fileData = yield {\n",
              "      promise: fileDataPromise,\n",
              "      response: {\n",
              "        action: 'continue',\n",
              "      }\n",
              "    };\n",
              "\n",
              "    // Use a chunked sending to avoid message size limits. See b/62115660.\n",
              "    let position = 0;\n",
              "    do {\n",
              "      const length = Math.min(fileData.byteLength - position, MAX_PAYLOAD_SIZE);\n",
              "      const chunk = new Uint8Array(fileData, position, length);\n",
              "      position += length;\n",
              "\n",
              "      const base64 = btoa(String.fromCharCode.apply(null, chunk));\n",
              "      yield {\n",
              "        response: {\n",
              "          action: 'append',\n",
              "          file: file.name,\n",
              "          data: base64,\n",
              "        },\n",
              "      };\n",
              "\n",
              "      let percentDone = fileData.byteLength === 0 ?\n",
              "          100 :\n",
              "          Math.round((position / fileData.byteLength) * 100);\n",
              "      percent.textContent = `${percentDone}% done`;\n",
              "\n",
              "    } while (position < fileData.byteLength);\n",
              "  }\n",
              "\n",
              "  // All done.\n",
              "  yield {\n",
              "    response: {\n",
              "      action: 'complete',\n",
              "    }\n",
              "  };\n",
              "}\n",
              "\n",
              "scope.google = scope.google || {};\n",
              "scope.google.colab = scope.google.colab || {};\n",
              "scope.google.colab._files = {\n",
              "  _uploadFiles,\n",
              "  _uploadFilesContinue,\n",
              "};\n",
              "})(self);\n",
              "</script> "
            ]
          },
          "metadata": {}
        },
        {
          "output_type": "stream",
          "name": "stdout",
          "text": [
            "Saving advertising.csv to advertising.csv\n"
          ]
        }
      ]
    },
    {
      "cell_type": "code",
      "execution_count": 3,
      "metadata": {
        "id": "eOhqQQDae_cg"
      },
      "outputs": [],
      "source": [
        "import pandas as pd\n",
        "import numpy as np\n",
        "import matplotlib.pyplot as plt\n",
        "import seaborn as sns\n"
      ]
    },
    {
      "cell_type": "code",
      "source": [
        "df = pd.read_csv('advertising.csv')\n",
        "df.head()"
      ],
      "metadata": {
        "colab": {
          "base_uri": "https://localhost:8080/",
          "height": 206
        },
        "id": "PVl9d67UfjfU",
        "outputId": "ccb0d8a8-0084-4d88-aba1-3c562f9f0289"
      },
      "execution_count": 4,
      "outputs": [
        {
          "output_type": "execute_result",
          "data": {
            "text/plain": [
              "      TV  Radio  Newspaper  Sales\n",
              "0  230.1   37.8       69.2   22.1\n",
              "1   44.5   39.3       45.1   10.4\n",
              "2   17.2   45.9       69.3   12.0\n",
              "3  151.5   41.3       58.5   16.5\n",
              "4  180.8   10.8       58.4   17.9"
            ],
            "text/html": [
              "\n",
              "  <div id=\"df-74f69a5a-a35d-43a2-98b1-95f465c937f6\" class=\"colab-df-container\">\n",
              "    <div>\n",
              "<style scoped>\n",
              "    .dataframe tbody tr th:only-of-type {\n",
              "        vertical-align: middle;\n",
              "    }\n",
              "\n",
              "    .dataframe tbody tr th {\n",
              "        vertical-align: top;\n",
              "    }\n",
              "\n",
              "    .dataframe thead th {\n",
              "        text-align: right;\n",
              "    }\n",
              "</style>\n",
              "<table border=\"1\" class=\"dataframe\">\n",
              "  <thead>\n",
              "    <tr style=\"text-align: right;\">\n",
              "      <th></th>\n",
              "      <th>TV</th>\n",
              "      <th>Radio</th>\n",
              "      <th>Newspaper</th>\n",
              "      <th>Sales</th>\n",
              "    </tr>\n",
              "  </thead>\n",
              "  <tbody>\n",
              "    <tr>\n",
              "      <th>0</th>\n",
              "      <td>230.1</td>\n",
              "      <td>37.8</td>\n",
              "      <td>69.2</td>\n",
              "      <td>22.1</td>\n",
              "    </tr>\n",
              "    <tr>\n",
              "      <th>1</th>\n",
              "      <td>44.5</td>\n",
              "      <td>39.3</td>\n",
              "      <td>45.1</td>\n",
              "      <td>10.4</td>\n",
              "    </tr>\n",
              "    <tr>\n",
              "      <th>2</th>\n",
              "      <td>17.2</td>\n",
              "      <td>45.9</td>\n",
              "      <td>69.3</td>\n",
              "      <td>12.0</td>\n",
              "    </tr>\n",
              "    <tr>\n",
              "      <th>3</th>\n",
              "      <td>151.5</td>\n",
              "      <td>41.3</td>\n",
              "      <td>58.5</td>\n",
              "      <td>16.5</td>\n",
              "    </tr>\n",
              "    <tr>\n",
              "      <th>4</th>\n",
              "      <td>180.8</td>\n",
              "      <td>10.8</td>\n",
              "      <td>58.4</td>\n",
              "      <td>17.9</td>\n",
              "    </tr>\n",
              "  </tbody>\n",
              "</table>\n",
              "</div>\n",
              "    <div class=\"colab-df-buttons\">\n",
              "\n",
              "  <div class=\"colab-df-container\">\n",
              "    <button class=\"colab-df-convert\" onclick=\"convertToInteractive('df-74f69a5a-a35d-43a2-98b1-95f465c937f6')\"\n",
              "            title=\"Convert this dataframe to an interactive table.\"\n",
              "            style=\"display:none;\">\n",
              "\n",
              "  <svg xmlns=\"http://www.w3.org/2000/svg\" height=\"24px\" viewBox=\"0 -960 960 960\">\n",
              "    <path d=\"M120-120v-720h720v720H120Zm60-500h600v-160H180v160Zm220 220h160v-160H400v160Zm0 220h160v-160H400v160ZM180-400h160v-160H180v160Zm440 0h160v-160H620v160ZM180-180h160v-160H180v160Zm440 0h160v-160H620v160Z\"/>\n",
              "  </svg>\n",
              "    </button>\n",
              "\n",
              "  <style>\n",
              "    .colab-df-container {\n",
              "      display:flex;\n",
              "      gap: 12px;\n",
              "    }\n",
              "\n",
              "    .colab-df-convert {\n",
              "      background-color: #E8F0FE;\n",
              "      border: none;\n",
              "      border-radius: 50%;\n",
              "      cursor: pointer;\n",
              "      display: none;\n",
              "      fill: #1967D2;\n",
              "      height: 32px;\n",
              "      padding: 0 0 0 0;\n",
              "      width: 32px;\n",
              "    }\n",
              "\n",
              "    .colab-df-convert:hover {\n",
              "      background-color: #E2EBFA;\n",
              "      box-shadow: 0px 1px 2px rgba(60, 64, 67, 0.3), 0px 1px 3px 1px rgba(60, 64, 67, 0.15);\n",
              "      fill: #174EA6;\n",
              "    }\n",
              "\n",
              "    .colab-df-buttons div {\n",
              "      margin-bottom: 4px;\n",
              "    }\n",
              "\n",
              "    [theme=dark] .colab-df-convert {\n",
              "      background-color: #3B4455;\n",
              "      fill: #D2E3FC;\n",
              "    }\n",
              "\n",
              "    [theme=dark] .colab-df-convert:hover {\n",
              "      background-color: #434B5C;\n",
              "      box-shadow: 0px 1px 3px 1px rgba(0, 0, 0, 0.15);\n",
              "      filter: drop-shadow(0px 1px 2px rgba(0, 0, 0, 0.3));\n",
              "      fill: #FFFFFF;\n",
              "    }\n",
              "  </style>\n",
              "\n",
              "    <script>\n",
              "      const buttonEl =\n",
              "        document.querySelector('#df-74f69a5a-a35d-43a2-98b1-95f465c937f6 button.colab-df-convert');\n",
              "      buttonEl.style.display =\n",
              "        google.colab.kernel.accessAllowed ? 'block' : 'none';\n",
              "\n",
              "      async function convertToInteractive(key) {\n",
              "        const element = document.querySelector('#df-74f69a5a-a35d-43a2-98b1-95f465c937f6');\n",
              "        const dataTable =\n",
              "          await google.colab.kernel.invokeFunction('convertToInteractive',\n",
              "                                                    [key], {});\n",
              "        if (!dataTable) return;\n",
              "\n",
              "        const docLinkHtml = 'Like what you see? Visit the ' +\n",
              "          '<a target=\"_blank\" href=https://colab.research.google.com/notebooks/data_table.ipynb>data table notebook</a>'\n",
              "          + ' to learn more about interactive tables.';\n",
              "        element.innerHTML = '';\n",
              "        dataTable['output_type'] = 'display_data';\n",
              "        await google.colab.output.renderOutput(dataTable, element);\n",
              "        const docLink = document.createElement('div');\n",
              "        docLink.innerHTML = docLinkHtml;\n",
              "        element.appendChild(docLink);\n",
              "      }\n",
              "    </script>\n",
              "  </div>\n",
              "\n",
              "\n",
              "    <div id=\"df-2973f469-3d70-42cf-bc7b-ae5958cc60cc\">\n",
              "      <button class=\"colab-df-quickchart\" onclick=\"quickchart('df-2973f469-3d70-42cf-bc7b-ae5958cc60cc')\"\n",
              "                title=\"Suggest charts\"\n",
              "                style=\"display:none;\">\n",
              "\n",
              "<svg xmlns=\"http://www.w3.org/2000/svg\" height=\"24px\"viewBox=\"0 0 24 24\"\n",
              "     width=\"24px\">\n",
              "    <g>\n",
              "        <path d=\"M19 3H5c-1.1 0-2 .9-2 2v14c0 1.1.9 2 2 2h14c1.1 0 2-.9 2-2V5c0-1.1-.9-2-2-2zM9 17H7v-7h2v7zm4 0h-2V7h2v10zm4 0h-2v-4h2v4z\"/>\n",
              "    </g>\n",
              "</svg>\n",
              "      </button>\n",
              "\n",
              "<style>\n",
              "  .colab-df-quickchart {\n",
              "      --bg-color: #E8F0FE;\n",
              "      --fill-color: #1967D2;\n",
              "      --hover-bg-color: #E2EBFA;\n",
              "      --hover-fill-color: #174EA6;\n",
              "      --disabled-fill-color: #AAA;\n",
              "      --disabled-bg-color: #DDD;\n",
              "  }\n",
              "\n",
              "  [theme=dark] .colab-df-quickchart {\n",
              "      --bg-color: #3B4455;\n",
              "      --fill-color: #D2E3FC;\n",
              "      --hover-bg-color: #434B5C;\n",
              "      --hover-fill-color: #FFFFFF;\n",
              "      --disabled-bg-color: #3B4455;\n",
              "      --disabled-fill-color: #666;\n",
              "  }\n",
              "\n",
              "  .colab-df-quickchart {\n",
              "    background-color: var(--bg-color);\n",
              "    border: none;\n",
              "    border-radius: 50%;\n",
              "    cursor: pointer;\n",
              "    display: none;\n",
              "    fill: var(--fill-color);\n",
              "    height: 32px;\n",
              "    padding: 0;\n",
              "    width: 32px;\n",
              "  }\n",
              "\n",
              "  .colab-df-quickchart:hover {\n",
              "    background-color: var(--hover-bg-color);\n",
              "    box-shadow: 0 1px 2px rgba(60, 64, 67, 0.3), 0 1px 3px 1px rgba(60, 64, 67, 0.15);\n",
              "    fill: var(--button-hover-fill-color);\n",
              "  }\n",
              "\n",
              "  .colab-df-quickchart-complete:disabled,\n",
              "  .colab-df-quickchart-complete:disabled:hover {\n",
              "    background-color: var(--disabled-bg-color);\n",
              "    fill: var(--disabled-fill-color);\n",
              "    box-shadow: none;\n",
              "  }\n",
              "\n",
              "  .colab-df-spinner {\n",
              "    border: 2px solid var(--fill-color);\n",
              "    border-color: transparent;\n",
              "    border-bottom-color: var(--fill-color);\n",
              "    animation:\n",
              "      spin 1s steps(1) infinite;\n",
              "  }\n",
              "\n",
              "  @keyframes spin {\n",
              "    0% {\n",
              "      border-color: transparent;\n",
              "      border-bottom-color: var(--fill-color);\n",
              "      border-left-color: var(--fill-color);\n",
              "    }\n",
              "    20% {\n",
              "      border-color: transparent;\n",
              "      border-left-color: var(--fill-color);\n",
              "      border-top-color: var(--fill-color);\n",
              "    }\n",
              "    30% {\n",
              "      border-color: transparent;\n",
              "      border-left-color: var(--fill-color);\n",
              "      border-top-color: var(--fill-color);\n",
              "      border-right-color: var(--fill-color);\n",
              "    }\n",
              "    40% {\n",
              "      border-color: transparent;\n",
              "      border-right-color: var(--fill-color);\n",
              "      border-top-color: var(--fill-color);\n",
              "    }\n",
              "    60% {\n",
              "      border-color: transparent;\n",
              "      border-right-color: var(--fill-color);\n",
              "    }\n",
              "    80% {\n",
              "      border-color: transparent;\n",
              "      border-right-color: var(--fill-color);\n",
              "      border-bottom-color: var(--fill-color);\n",
              "    }\n",
              "    90% {\n",
              "      border-color: transparent;\n",
              "      border-bottom-color: var(--fill-color);\n",
              "    }\n",
              "  }\n",
              "</style>\n",
              "\n",
              "      <script>\n",
              "        async function quickchart(key) {\n",
              "          const quickchartButtonEl =\n",
              "            document.querySelector('#' + key + ' button');\n",
              "          quickchartButtonEl.disabled = true;  // To prevent multiple clicks.\n",
              "          quickchartButtonEl.classList.add('colab-df-spinner');\n",
              "          try {\n",
              "            const charts = await google.colab.kernel.invokeFunction(\n",
              "                'suggestCharts', [key], {});\n",
              "          } catch (error) {\n",
              "            console.error('Error during call to suggestCharts:', error);\n",
              "          }\n",
              "          quickchartButtonEl.classList.remove('colab-df-spinner');\n",
              "          quickchartButtonEl.classList.add('colab-df-quickchart-complete');\n",
              "        }\n",
              "        (() => {\n",
              "          let quickchartButtonEl =\n",
              "            document.querySelector('#df-2973f469-3d70-42cf-bc7b-ae5958cc60cc button');\n",
              "          quickchartButtonEl.style.display =\n",
              "            google.colab.kernel.accessAllowed ? 'block' : 'none';\n",
              "        })();\n",
              "      </script>\n",
              "    </div>\n",
              "\n",
              "    </div>\n",
              "  </div>\n"
            ],
            "application/vnd.google.colaboratory.intrinsic+json": {
              "type": "dataframe",
              "variable_name": "df",
              "summary": "{\n  \"name\": \"df\",\n  \"rows\": 200,\n  \"fields\": [\n    {\n      \"column\": \"TV\",\n      \"properties\": {\n        \"dtype\": \"number\",\n        \"std\": 85.8542363149081,\n        \"min\": 0.7,\n        \"max\": 296.4,\n        \"num_unique_values\": 190,\n        \"samples\": [\n          287.6,\n          286.0,\n          78.2\n        ],\n        \"semantic_type\": \"\",\n        \"description\": \"\"\n      }\n    },\n    {\n      \"column\": \"Radio\",\n      \"properties\": {\n        \"dtype\": \"number\",\n        \"std\": 14.846809176168723,\n        \"min\": 0.0,\n        \"max\": 49.6,\n        \"num_unique_values\": 167,\n        \"samples\": [\n          8.2,\n          36.9,\n          44.5\n        ],\n        \"semantic_type\": \"\",\n        \"description\": \"\"\n      }\n    },\n    {\n      \"column\": \"Newspaper\",\n      \"properties\": {\n        \"dtype\": \"number\",\n        \"std\": 21.778620838522833,\n        \"min\": 0.3,\n        \"max\": 114.0,\n        \"num_unique_values\": 172,\n        \"samples\": [\n          22.3,\n          5.7,\n          17.0\n        ],\n        \"semantic_type\": \"\",\n        \"description\": \"\"\n      }\n    },\n    {\n      \"column\": \"Sales\",\n      \"properties\": {\n        \"dtype\": \"number\",\n        \"std\": 5.283892252561874,\n        \"min\": 1.6,\n        \"max\": 27.0,\n        \"num_unique_values\": 121,\n        \"samples\": [\n          19.8,\n          22.6,\n          17.9\n        ],\n        \"semantic_type\": \"\",\n        \"description\": \"\"\n      }\n    }\n  ]\n}"
            }
          },
          "metadata": {},
          "execution_count": 4
        }
      ]
    },
    {
      "cell_type": "code",
      "source": [
        "# Shape of the dataset(rows, columns)\n",
        "print(\"Shape:\", df.shape)\n",
        "\n",
        "# Data types and null values(to spot missing data and datatype issue)\n",
        "print(\"\\nInfo:\")\n",
        "print(df.info())\n",
        "\n",
        "# Unique values per column\n",
        "print(\"\\nUnique values:\")\n",
        "print(df.nunique())\n",
        "\n",
        "print(\"\\nMissing Values per column: \\n\", df.isnull().sum())"
      ],
      "metadata": {
        "colab": {
          "base_uri": "https://localhost:8080/"
        },
        "id": "p6qeqKrtgGMy",
        "outputId": "1e22ca85-359c-4abe-e659-9c46df52e34d"
      },
      "execution_count": 5,
      "outputs": [
        {
          "output_type": "stream",
          "name": "stdout",
          "text": [
            "Shape: (200, 4)\n",
            "\n",
            "Info:\n",
            "<class 'pandas.core.frame.DataFrame'>\n",
            "RangeIndex: 200 entries, 0 to 199\n",
            "Data columns (total 4 columns):\n",
            " #   Column     Non-Null Count  Dtype  \n",
            "---  ------     --------------  -----  \n",
            " 0   TV         200 non-null    float64\n",
            " 1   Radio      200 non-null    float64\n",
            " 2   Newspaper  200 non-null    float64\n",
            " 3   Sales      200 non-null    float64\n",
            "dtypes: float64(4)\n",
            "memory usage: 6.4 KB\n",
            "None\n",
            "\n",
            "Unique values:\n",
            "TV           190\n",
            "Radio        167\n",
            "Newspaper    172\n",
            "Sales        121\n",
            "dtype: int64\n",
            "\n",
            "Missing Values per column: \n",
            " TV           0\n",
            "Radio        0\n",
            "Newspaper    0\n",
            "Sales        0\n",
            "dtype: int64\n"
          ]
        }
      ]
    },
    {
      "cell_type": "markdown",
      "source": [
        "Handling Missing Values"
      ],
      "metadata": {
        "id": "Yf87ut_vhAiN"
      }
    },
    {
      "cell_type": "code",
      "source": [
        "# Replace missing values with column mean\n",
        "df_mean = df.copy()\n",
        "for col in df_mean.columns:\n",
        "    if df_mean[col].isnull().sum() > 0:\n",
        "        mean_val = df_mean[col].mean()\n",
        "        df_mean[col].fillna(mean_val, inplace=True)\n",
        "\n",
        "\n",
        "# Replace missing values with column median\n",
        "df_median = df.copy()\n",
        "for col in df_median.columns:\n",
        "    if df_median[col].isnull().sum() > 0:\n",
        "        median_val = df_median[col].median()\n",
        "        df_median[col].fillna(median_val, inplace=True)\n",
        "\n",
        "\n",
        "# Replace missing values with 0\n",
        "df_zero = df.copy()\n",
        "df_zero.fillna(0, inplace=True)\n",
        "\n",
        "print(\"\\nMissing Values After Filling with Mean:\\n\", df_mean.isnull().sum())\n"
      ],
      "metadata": {
        "colab": {
          "base_uri": "https://localhost:8080/"
        },
        "id": "3z17l0BvgUl8",
        "outputId": "8c9757d6-7ef8-4cb8-ad01-2caa401d5231"
      },
      "execution_count": 6,
      "outputs": [
        {
          "output_type": "stream",
          "name": "stdout",
          "text": [
            "\n",
            "Missing Values After Filling with Mean:\n",
            " TV           0\n",
            "Radio        0\n",
            "Newspaper    0\n",
            "Sales        0\n",
            "dtype: int64\n"
          ]
        }
      ]
    },
    {
      "cell_type": "markdown",
      "source": [
        "Normalization\n"
      ],
      "metadata": {
        "id": "lNnjECF4hF4M"
      }
    },
    {
      "cell_type": "code",
      "source": [
        "# Min-Max Scaling\n",
        "def min_max_scaling(data):\n",
        "    scaled = data.copy()\n",
        "    for col in scaled.select_dtypes(include=[np.number]).columns:\n",
        "        min_val, max_val = scaled[col].min(), scaled[col].max()\n",
        "        scaled[col] = (scaled[col] - min_val) / (max_val - min_val)\n",
        "    return scaled\n",
        "\n",
        "\n",
        "# Standard Scaling\n",
        "def standard_scaling(data):\n",
        "    scaled = data.copy()\n",
        "    for col in scaled.select_dtypes(include=[np.number]).columns:\n",
        "        mean_val, std_val = scaled[col].mean(), scaled[col].std()\n",
        "        scaled[col] = (scaled[col] - mean_val) / std_val\n",
        "    return scaled\n",
        "\n",
        "df_minmax = min_max_scaling(df_mean)\n",
        "df_standard = standard_scaling(df_mean)\n",
        "\n",
        "print(\"\\nFirst 5 rows after Min-Max Scaling:\")\n",
        "print(df_minmax.head())"
      ],
      "metadata": {
        "colab": {
          "base_uri": "https://localhost:8080/"
        },
        "id": "oWPGW4LNgyfY",
        "outputId": "d0124ed8-3c72-4265-f308-85f7b72e71a9"
      },
      "execution_count": 7,
      "outputs": [
        {
          "output_type": "stream",
          "name": "stdout",
          "text": [
            "\n",
            "First 5 rows after Min-Max Scaling:\n",
            "         TV     Radio  Newspaper     Sales\n",
            "0  0.775786  0.762097   0.605981  0.807087\n",
            "1  0.148123  0.792339   0.394019  0.346457\n",
            "2  0.055800  0.925403   0.606860  0.409449\n",
            "3  0.509976  0.832661   0.511873  0.586614\n",
            "4  0.609063  0.217742   0.510994  0.641732\n"
          ]
        }
      ]
    },
    {
      "cell_type": "markdown",
      "source": [
        "Outlier Detection (Z-score method)"
      ],
      "metadata": {
        "id": "5FpiS-9ihW7j"
      }
    },
    {
      "cell_type": "code",
      "source": [
        "def detect_outliers_iqr(data):\n",
        "    outliers = {}\n",
        "    for col in data.select_dtypes(include=[np.number]).columns:\n",
        "        Q1 = data[col].quantile(0.25)\n",
        "        Q3 = data[col].quantile(0.75)\n",
        "        IQR = Q3 - Q1\n",
        "        lower_bound = Q1 - 1.5 * IQR\n",
        "        upper_bound = Q3 + 1.5 * IQR\n",
        "        outliers[col] = data[(data[col] < lower_bound) | (data[col] > upper_bound)].index.tolist()\n",
        "    return outliers\n",
        "\n",
        "# Detect outliers\n",
        "outliers = detect_outliers_iqr(df_mean)\n",
        "print(\"\\nOutlier indices per column:\", outliers)\n",
        "\n",
        "# Remove outliers (rows having any outlier)\n",
        "outlier_indices = set([i for lst in outliers.values() for i in lst])\n",
        "df_no_outliers = df_mean.drop(index=outlier_indices)\n",
        "\n",
        "print(f\"\\nData shape before removing outliers: {df_mean.shape}\")\n",
        "print(f\"Data shape after removing outliers: {df_no_outliers.shape}\")\n",
        "print(f\"Outliers removed: {len(outlier_indices)}\")\n",
        "\n"
      ],
      "metadata": {
        "colab": {
          "base_uri": "https://localhost:8080/"
        },
        "id": "4xPd8NFWhZEV",
        "outputId": "23955993-6468-4572-d6fe-30a0ce9b4999"
      },
      "execution_count": 8,
      "outputs": [
        {
          "output_type": "stream",
          "name": "stdout",
          "text": [
            "\n",
            "Outlier indices per column: {'TV': [], 'Radio': [], 'Newspaper': [16, 101], 'Sales': []}\n",
            "\n",
            "Data shape before removing outliers: (200, 4)\n",
            "Data shape after removing outliers: (198, 4)\n",
            "Outliers removed: 2\n"
          ]
        }
      ]
    },
    {
      "cell_type": "code",
      "source": [
        "# Before outlier removal\n",
        "plt.figure(figsize=(10, 5))\n",
        "sns.boxplot(data=df_mean.select_dtypes(include=[np.number]))\n",
        "plt.title(\"Before Outlier Removal (IQR method)\")\n",
        "plt.xticks(rotation=45)\n",
        "plt.show()\n",
        "\n",
        "# After outlier removal\n",
        "plt.figure(figsize=(10, 5))\n",
        "sns.boxplot(data=df_no_outliers.select_dtypes(include=[np.number]))\n",
        "plt.title(\"After Outlier Removal (IQR method)\")\n",
        "plt.xticks(rotation=45)\n",
        "plt.show()"
      ],
      "metadata": {
        "colab": {
          "base_uri": "https://localhost:8080/",
          "height": 1000
        },
        "id": "oOI_peYsUOs2",
        "outputId": "0652094f-a681-40f4-b51e-1d18dbcda092"
      },
      "execution_count": 9,
      "outputs": [
        {
          "output_type": "display_data",
          "data": {
            "text/plain": [
              "<Figure size 1000x500 with 1 Axes>"
            ],
            "image/png": "[encoded data removed]"
          },
          "metadata": {}
        },
        {
          "output_type": "display_data",
          "data": {
            "text/plain": [
              "<Figure size 1000x500 with 1 Axes>"
            ],
            "image/png": "[encoded data removed]"
          },
          "metadata": {}
        }
      ]
    },
    {
      "cell_type": "markdown",
      "source": [
        "Linear Regression"
      ],
      "metadata": {
        "id": "PMpiuzRmhhFf"
      }
    },
    {
      "cell_type": "code",
      "source": [
        "from numpy.linalg import inv\n",
        "\n",
        "# Assuming 'Sales' is the target\n",
        "X = df_no_outliers.drop(columns='Sales').values\n",
        "y = df_no_outliers['Sales'].values\n",
        "\n",
        "# Add bias column\n",
        "X_b = np.c_[np.ones((X.shape[0], 1)), X]\n",
        "\n",
        "# Normal Equation: θ = (X^T X)^(-1) X^T y\n",
        "theta = inv(X_b.T.dot(X_b)).dot(X_b.T).dot(y)\n",
        "print(\"\\nLinear Regression Coefficients:\", theta)\n",
        "\n",
        "# Predictions\n",
        "y_pred = X_b.dot(theta)\n",
        "\n",
        "# R² Score\n",
        "SS_res = np.sum((y - y_pred) ** 2)\n",
        "SS_tot = np.sum((y - np.mean(y)) ** 2)\n",
        "r2_score = 1 - (SS_res / SS_tot)\n",
        "print(f\"R² Score: {r2_score:.4f}\")"
      ],
      "metadata": {
        "colab": {
          "base_uri": "https://localhost:8080/"
        },
        "id": "oTgb-zaphjKf",
        "outputId": "1d523019-d325-45c7-c772-f807831683db"
      },
      "execution_count": 10,
      "outputs": [
        {
          "output_type": "stream",
          "name": "stdout",
          "text": [
            "\n",
            "Linear Regression Coefficients: [4.60019484e+00 5.45445202e-02 1.06916097e-01 8.63138705e-04]\n",
            "R² Score: 0.9013\n"
          ]
        }
      ]
    },
    {
      "cell_type": "markdown",
      "source": [],
      "metadata": {
        "id": "aWD_UoJnWcWQ"
      }
    },
    {
      "cell_type": "code",
      "source": [
        "import pandas as pd\n",
        "import numpy as np\n",
        "from sklearn.model_selection import train_test_split\n",
        "from sklearn.linear_model import LinearRegression\n",
        "from sklearn.metrics import r2_score, mean_squared_error\n",
        "import matplotlib.pyplot as plt\n",
        "import seaborn as sns"
      ],
      "metadata": {
        "id": "AvuvbvZNWG-r"
      },
      "execution_count": 11,
      "outputs": []
    },
    {
      "cell_type": "code",
      "source": [
        "# Helper function for missing values\n",
        "def handle_missing_values(df, method):\n",
        "    df_copy = df.copy()\n",
        "    print(f\"\\n[Missing Value Handling] Method: {method}\")\n",
        "\n",
        "    for col in df_copy.select_dtypes(include=[np.number]).columns:\n",
        "        missing_count = df_copy[col].isna().sum()\n",
        "        if missing_count > 0:\n",
        "            print(f\"  - Column '{col}' has {missing_count} missing values\")\n",
        "\n",
        "        if method == \"mean\":\n",
        "            fill_value = df_copy[col].mean()\n",
        "            df_copy[col] = df_copy[col].fillna(fill_value)\n",
        "            print(f\"    Filled with mean = {fill_value:.4f}\")\n",
        "        elif method == \"median\":\n",
        "            fill_value = df_copy[col].median()\n",
        "            df_copy[col] = df_copy[col].fillna(fill_value)\n",
        "            print(f\"    Filled with median = {fill_value:.4f}\")\n",
        "\n",
        "    return df_copy"
      ],
      "metadata": {
        "id": "94iLELK1YQ2C"
      },
      "execution_count": 12,
      "outputs": []
    },
    {
      "cell_type": "code",
      "source": [
        "# Helper function for normalization\n",
        "def normalize_data(df, method):\n",
        "    df_copy = df.copy()\n",
        "    print(f\"\\n[Normalization] Method: {method}\")\n",
        "\n",
        "    for col in df_copy.select_dtypes(include=[np.number]).columns:\n",
        "        if method == \"minmax\":\n",
        "            min_val, max_val = df_copy[col].min(), df_copy[col].max()\n",
        "            df_copy[col] = (df_copy[col] - min_val) / (max_val - min_val)\n",
        "            print(f\"  - Column '{col}': min={min_val:.4f}, max={max_val:.4f} → scaled to [0,1]\")\n",
        "\n",
        "        elif method == \"standard\":\n",
        "            mean_val, std_val = df_copy[col].mean(), df_copy[col].std()\n",
        "            df_copy[col] = (df_copy[col] - mean_val) / std_val\n",
        "            print(f\"  - Column '{col}': mean={mean_val:.4f}, std={std_val:.4f} → standardized\")\n",
        "\n",
        "    return df_copy"
      ],
      "metadata": {
        "id": "sAUQCn-rYw44"
      },
      "execution_count": 13,
      "outputs": []
    },
    {
      "cell_type": "code",
      "source": [
        "# Helper function for outlier removal using IQR\n",
        "def remove_outliers_iqr(df):\n",
        "    df_copy = df.copy()\n",
        "    print(\"\\n[Outlier Removal] Using IQR method\")\n",
        "\n",
        "    for col in df_copy.select_dtypes(include=[np.number]).columns:\n",
        "        Q1 = df_copy[col].quantile(0.25)\n",
        "        Q3 = df_copy[col].quantile(0.75)\n",
        "        IQR = Q3 - Q1\n",
        "        lower_bound = Q1 - 1.5 * IQR\n",
        "        upper_bound = Q3 + 1.5 * IQR\n",
        "\n",
        "        before_count = df_copy.shape[0]\n",
        "        df_copy = df_copy[(df_copy[col] >= lower_bound) & (df_copy[col] <= upper_bound)]\n",
        "        after_count = df_copy.shape[0]\n",
        "\n",
        "        print(f\"  - Column '{col}': Removed {before_count - after_count} rows outside [{lower_bound:.4f}, {upper_bound:.4f}]\")\n",
        "\n",
        "    return df_copy"
      ],
      "metadata": {
        "id": "HWaemCgdYxyQ"
      },
      "execution_count": 14,
      "outputs": []
    },
    {
      "cell_type": "code",
      "source": [
        "methods_missing = [\"mean\", \"median\"]\n",
        "methods_norm = [\"minmax\", \"standard\"]\n",
        "outlier_opts = [False, True]\n",
        "\n",
        "results = []\n",
        "target_col = \"Sales\"  # Change if your target column name is different\n",
        "\n",
        "for miss in methods_missing:\n",
        "    for norm in methods_norm:\n",
        "        for outliers in outlier_opts:\n",
        "            # Step 1: Missing values\n",
        "            df_processed = handle_missing_values(df, miss)\n",
        "\n",
        "            # Step 2: Outlier removal\n",
        "            if outliers:\n",
        "                df_processed = remove_outliers_iqr(df_processed)\n",
        "\n",
        "            # Step 3: Normalization\n",
        "            df_processed = normalize_data(df_processed, norm)\n",
        "\n",
        "            # Step 4: Train-test split\n",
        "            X = df_processed.drop(columns=[target_col])\n",
        "            y = df_processed[target_col]\n",
        "            X_train, X_test, y_train, y_test = train_test_split(X, y, test_size=0.2, random_state=42)\n",
        "\n",
        "            # Step 5: Train model\n",
        "            model = LinearRegression()\n",
        "            model.fit(X_train, y_train)\n",
        "            y_pred = model.predict(X_test)\n",
        "\n",
        "            # Step 6: Metrics\n",
        "            r2 = r2_score(y_test, y_pred)\n",
        "            rmse = np.sqrt(mean_squared_error(y_test, y_pred))\n",
        "\n",
        "            results.append({\n",
        "                \"Missing_Handling\": miss,\n",
        "                \"Normalization\": norm,\n",
        "                \"Outlier_Removal\": outliers,\n",
        "                \"R2_Score\": r2,\n",
        "                \"RMSE\": rmse\n",
        "            })\n"
      ],
      "metadata": {
        "colab": {
          "base_uri": "https://localhost:8080/"
        },
        "id": "vn8FcWkXZHG8",
        "outputId": "7ef2f0d9-ba81-4624-cf91-aa0fc22ae857"
      },
      "execution_count": 15,
      "outputs": [
        {
          "output_type": "stream",
          "name": "stdout",
          "text": [
            "\n",
            "[Missing Value Handling] Method: mean\n",
            "    Filled with mean = 147.0425\n",
            "    Filled with mean = 23.2640\n",
            "    Filled with mean = 30.5540\n",
            "    Filled with mean = 15.1305\n",
            "\n",
            "[Normalization] Method: minmax\n",
            "  - Column 'TV': min=0.7000, max=296.4000 → scaled to [0,1]\n",
            "  - Column 'Radio': min=0.0000, max=49.6000 → scaled to [0,1]\n",
            "  - Column 'Newspaper': min=0.3000, max=114.0000 → scaled to [0,1]\n",
            "  - Column 'Sales': min=1.6000, max=27.0000 → scaled to [0,1]\n",
            "\n",
            "[Missing Value Handling] Method: mean\n",
            "    Filled with mean = 147.0425\n",
            "    Filled with mean = 23.2640\n",
            "    Filled with mean = 30.5540\n",
            "    Filled with mean = 15.1305\n",
            "\n",
            "[Outlier Removal] Using IQR method\n",
            "  - Column 'TV': Removed 0 rows outside [-142.3000, 435.5000]\n",
            "  - Column 'Radio': Removed 0 rows outside [-29.8500, 76.3500]\n",
            "  - Column 'Newspaper': Removed 2 rows outside [-35.7750, 93.6250]\n",
            "  - Column 'Sales': Removed 0 rows outside [-0.9625, 30.9375]\n",
            "\n",
            "[Normalization] Method: minmax\n",
            "  - Column 'TV': min=0.7000, max=293.6000 → scaled to [0,1]\n",
            "  - Column 'Radio': min=0.0000, max=49.6000 → scaled to [0,1]\n",
            "  - Column 'Newspaper': min=0.3000, max=89.4000 → scaled to [0,1]\n",
            "  - Column 'Sales': min=1.6000, max=27.0000 → scaled to [0,1]\n",
            "\n",
            "[Missing Value Handling] Method: mean\n",
            "    Filled with mean = 147.0425\n",
            "    Filled with mean = 23.2640\n",
            "    Filled with mean = 30.5540\n",
            "    Filled with mean = 15.1305\n",
            "\n",
            "[Normalization] Method: standard\n",
            "  - Column 'TV': mean=147.0425, std=85.8542 → standardized\n",
            "  - Column 'Radio': mean=23.2640, std=14.8468 → standardized\n",
            "  - Column 'Newspaper': mean=30.5540, std=21.7786 → standardized\n",
            "  - Column 'Sales': mean=15.1305, std=5.2839 → standardized\n",
            "\n",
            "[Missing Value Handling] Method: mean\n",
            "    Filled with mean = 147.0425\n",
            "    Filled with mean = 23.2640\n",
            "    Filled with mean = 30.5540\n",
            "    Filled with mean = 15.1305\n",
            "\n",
            "[Outlier Removal] Using IQR method\n",
            "  - Column 'TV': Removed 0 rows outside [-142.3000, 435.5000]\n",
            "  - Column 'Radio': Removed 0 rows outside [-29.8500, 76.3500]\n",
            "  - Column 'Newspaper': Removed 2 rows outside [-35.7750, 93.6250]\n",
            "  - Column 'Sales': Removed 0 rows outside [-0.9625, 30.9375]\n",
            "\n",
            "[Normalization] Method: standard\n",
            "  - Column 'TV': mean=146.6884, std=85.4432 → standardized\n",
            "  - Column 'Radio': mean=23.1308, std=14.8621 → standardized\n",
            "  - Column 'Newspaper': mean=29.7773, std=20.4463 → standardized\n",
            "  - Column 'Sales': mean=15.1000, std=5.2712 → standardized\n",
            "\n",
            "[Missing Value Handling] Method: median\n",
            "    Filled with median = 149.7500\n",
            "    Filled with median = 22.9000\n",
            "    Filled with median = 25.7500\n",
            "    Filled with median = 16.0000\n",
            "\n",
            "[Normalization] Method: minmax\n",
            "  - Column 'TV': min=0.7000, max=296.4000 → scaled to [0,1]\n",
            "  - Column 'Radio': min=0.0000, max=49.6000 → scaled to [0,1]\n",
            "  - Column 'Newspaper': min=0.3000, max=114.0000 → scaled to [0,1]\n",
            "  - Column 'Sales': min=1.6000, max=27.0000 → scaled to [0,1]\n",
            "\n",
            "[Missing Value Handling] Method: median\n",
            "    Filled with median = 149.7500\n",
            "    Filled with median = 22.9000\n",
            "    Filled with median = 25.7500\n",
            "    Filled with median = 16.0000\n",
            "\n",
            "[Outlier Removal] Using IQR method\n",
            "  - Column 'TV': Removed 0 rows outside [-142.3000, 435.5000]\n",
            "  - Column 'Radio': Removed 0 rows outside [-29.8500, 76.3500]\n",
            "  - Column 'Newspaper': Removed 2 rows outside [-35.7750, 93.6250]\n",
            "  - Column 'Sales': Removed 0 rows outside [-0.9625, 30.9375]\n",
            "\n",
            "[Normalization] Method: minmax\n",
            "  - Column 'TV': min=0.7000, max=293.6000 → scaled to [0,1]\n",
            "  - Column 'Radio': min=0.0000, max=49.6000 → scaled to [0,1]\n",
            "  - Column 'Newspaper': min=0.3000, max=89.4000 → scaled to [0,1]\n",
            "  - Column 'Sales': min=1.6000, max=27.0000 → scaled to [0,1]\n",
            "\n",
            "[Missing Value Handling] Method: median\n",
            "    Filled with median = 149.7500\n",
            "    Filled with median = 22.9000\n",
            "    Filled with median = 25.7500\n",
            "    Filled with median = 16.0000\n",
            "\n",
            "[Normalization] Method: standard\n",
            "  - Column 'TV': mean=147.0425, std=85.8542 → standardized\n",
            "  - Column 'Radio': mean=23.2640, std=14.8468 → standardized\n",
            "  - Column 'Newspaper': mean=30.5540, std=21.7786 → standardized\n",
            "  - Column 'Sales': mean=15.1305, std=5.2839 → standardized\n",
            "\n",
            "[Missing Value Handling] Method: median\n",
            "    Filled with median = 149.7500\n",
            "    Filled with median = 22.9000\n",
            "    Filled with median = 25.7500\n",
            "    Filled with median = 16.0000\n",
            "\n",
            "[Outlier Removal] Using IQR method\n",
            "  - Column 'TV': Removed 0 rows outside [-142.3000, 435.5000]\n",
            "  - Column 'Radio': Removed 0 rows outside [-29.8500, 76.3500]\n",
            "  - Column 'Newspaper': Removed 2 rows outside [-35.7750, 93.6250]\n",
            "  - Column 'Sales': Removed 0 rows outside [-0.9625, 30.9375]\n",
            "\n",
            "[Normalization] Method: standard\n",
            "  - Column 'TV': mean=146.6884, std=85.4432 → standardized\n",
            "  - Column 'Radio': mean=23.1308, std=14.8621 → standardized\n",
            "  - Column 'Newspaper': mean=29.7773, std=20.4463 → standardized\n",
            "  - Column 'Sales': mean=15.1000, std=5.2712 → standardized\n"
          ]
        }
      ]
    },
    {
      "cell_type": "code",
      "source": [
        "results_df = pd.DataFrame(results)\n",
        "print(\"\\nAll Results: \")\n",
        "print(results_df)\n",
        "\n",
        "# Best R²\n",
        "best_r2 = results_df.loc[results_df[\"R2_Score\"].idxmax()]\n",
        "print(\"\\nBest R² Combination: \")\n",
        "print(best_r2)\n",
        "\n",
        "# Best RMSE\n",
        "best_rmse = results_df.loc[results_df[\"RMSE\"].idxmin()]\n",
        "print(\"\\nBest RMSE Combination: \")\n",
        "print(best_rmse)\n"
      ],
      "metadata": {
        "colab": {
          "base_uri": "https://localhost:8080/"
        },
        "id": "NbDhwD8KZJVS",
        "outputId": "8e51606e-d1c8-4c11-82be-0f542c0d9c99"
      },
      "execution_count": 21,
      "outputs": [
        {
          "output_type": "stream",
          "name": "stdout",
          "text": [
            "\n",
            "All Results: \n",
            "  Missing_Handling Normalization  Outlier_Removal  R2_Score      RMSE\n",
            "0             mean        minmax            False  0.905901  0.067134\n",
            "1             mean        minmax             True  0.913000  0.061191\n",
            "2             mean      standard            False  0.905901  0.322719\n",
            "3             mean      standard             True  0.913000  0.294860\n",
            "4           median        minmax            False  0.905901  0.067134\n",
            "5           median        minmax             True  0.913000  0.061191\n",
            "6           median      standard            False  0.905901  0.322719\n",
            "7           median      standard             True  0.913000  0.294860\n",
            "\n",
            "Best R² Combination: \n",
            "Missing_Handling        mean\n",
            "Normalization         minmax\n",
            "Outlier_Removal         True\n",
            "R2_Score               0.913\n",
            "RMSE                0.061191\n",
            "Name: 1, dtype: object\n",
            "\n",
            "Best RMSE Combination: \n",
            "Missing_Handling        mean\n",
            "Normalization         minmax\n",
            "Outlier_Removal         True\n",
            "R2_Score               0.913\n",
            "RMSE                0.061191\n",
            "Name: 1, dtype: object\n"
          ]
        }
      ]
    },
    {
      "cell_type": "code",
      "source": [
        "plt.figure(figsize=(10,6))\n",
        "sns.barplot(data=results_df, x=\"Normalization\", y=\"R2_Score\", hue=\"Outlier_Removal\")\n",
        "plt.title(\"R² Score Comparison for Normalization Methods (With/Without Outliers)\")\n",
        "plt.show()"
      ],
      "metadata": {
        "colab": {
          "base_uri": "https://localhost:8080/",
          "height": 564
        },
        "id": "JpWpZNUcZMFW",
        "outputId": "31f7386e-8b55-468c-897d-e5dd60bf49f8"
      },
      "execution_count": 18,
      "outputs": [
        {
          "output_type": "display_data",
          "data": {
            "text/plain": [
              "<Figure size 1000x600 with 1 Axes>"
            ],
            "image/png": "[encoded data removed]"
          },
          "metadata": {}
        }
      ]
    },
    {
      "cell_type": "code",
      "source": [
        "plt.figure(figsize=(10,6))\n",
        "sns.barplot(data=results_df, x=\"Normalization\", y=\"RMSE\", hue=\"Outlier_Removal\")\n",
        "plt.title(\"RMSE Comparison for Normalization Methods (With/Without Outliers)\")\n",
        "plt.show()"
      ],
      "metadata": {
        "colab": {
          "base_uri": "https://localhost:8080/",
          "height": 564
        },
        "id": "g_WNasIGZTDr",
        "outputId": "77b78bb6-3212-49fc-ea42-3aedd2598342"
      },
      "execution_count": 19,
      "outputs": [
        {
          "output_type": "display_data",
          "data": {
            "text/plain": [
              "<Figure size 1000x600 with 1 Axes>"
            ],
            "image/png": "[encoded data removed]"
          },
          "metadata": {}
        }
      ]
    },
    {
      "cell_type": "code",
      "source": [
        "# Heatmap for R²\n",
        "pivot_r2 = results_df.pivot_table(index=[\"Missing_Handling\"], columns=[\"Normalization\", \"Outlier_Removal\"], values=\"R2_Score\")\n",
        "plt.figure(figsize=(8,5))\n",
        "sns.heatmap(pivot_r2, annot=True, fmt=\".3f\", cmap=\"coolwarm\")\n",
        "plt.title(\"R² Scores Heatmap\")\n",
        "plt.show()"
      ],
      "metadata": {
        "colab": {
          "base_uri": "https://localhost:8080/",
          "height": 487
        },
        "id": "zQpJKZUtZT5n",
        "outputId": "f52ae739-9207-4a23-b572-fa75d766f5ab"
      },
      "execution_count": 20,
      "outputs": [
        {
          "output_type": "display_data",
          "data": {
            "text/plain": [
              "<Figure size 800x500 with 2 Axes>"
            ],
            "image/png": "[encoded data removed]"
          },
          "metadata": {}
        }
      ]
    }
  ]
}